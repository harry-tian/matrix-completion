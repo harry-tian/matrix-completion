{
 "cells": [
  {
   "cell_type": "code",
   "execution_count": 1,
   "metadata": {},
   "outputs": [],
   "source": [
    "%load_ext autoreload\n",
    "%autoreload 2\n",
    "import numpy as np\n",
    "import svt\n",
    "from bayes_opt import BayesianOptimization"
   ]
  },
  {
   "cell_type": "markdown",
   "metadata": {},
   "source": [
    "## Example of using singular value thresholding with bayesian optimization"
   ]
  },
  {
   "cell_type": "code",
   "execution_count": 8,
   "metadata": {},
   "outputs": [
    {
     "data": {
      "text/plain": [
       "array([[1., 1., 0., 1., 1.],\n",
       "       [1., 1., 0., 1., 1.],\n",
       "       [1., 1., 1., 1., 1.],\n",
       "       [0., 1., 1., 1., 1.],\n",
       "       [1., 1., 1., 1., 0.]])"
      ]
     },
     "execution_count": 8,
     "metadata": {},
     "output_type": "execute_result"
    }
   ],
   "source": [
    "X = np.random.random([5,5])\n",
    "mask = np.ones_like(X)\n",
    "nan = [[0,2],[1,2],[3,0],[4,4]]\n",
    "for idx in nan: mask[idx[0],idx[1]] = 0\n",
    "mask"
   ]
  },
  {
   "cell_type": "markdown",
   "metadata": {},
   "source": [
    "the bayes_opt packages maximizes by default, so we flip the sign of the norm error"
   ]
  },
  {
   "cell_type": "code",
   "execution_count": 3,
   "metadata": {},
   "outputs": [],
   "source": [
    "def svt_solve(threshold, eps):\n",
    "    X_hat = svt.svt_solve(X, mask, threshold=threshold, eps=eps)\n",
    "    return  - np.linalg.norm(X - X_hat)"
   ]
  },
  {
   "cell_type": "markdown",
   "metadata": {},
   "source": [
    "there's probably better hyperparamter ranges..."
   ]
  },
  {
   "cell_type": "code",
   "execution_count": 4,
   "metadata": {},
   "outputs": [],
   "source": [
    "S = np.linalg.svd(X)[1]\n",
    "pbounds = {\"threshold\": (S.min(), S.max()),\n",
    "    \"eps\": (1e-6, 1e-1)}"
   ]
  },
  {
   "cell_type": "code",
   "execution_count": 5,
   "metadata": {},
   "outputs": [
    {
     "data": {
      "text/plain": [
       "{'target': -0.2585887847778216,\n",
       " 'params': {'eps': 0.09749825464968818, 'threshold': 1.1832446171648794}}"
      ]
     },
     "execution_count": 5,
     "metadata": {},
     "output_type": "execute_result"
    }
   ],
   "source": [
    "optimizer = BayesianOptimization(\n",
    "    f= svt_solve ,\n",
    "    pbounds=pbounds,\n",
    "    verbose=0, \n",
    "    random_state=1,\n",
    ")\n",
    "optimizer.maximize(\n",
    "    init_points=2,\n",
    "    n_iter=100,\n",
    ")\n",
    "optimizer.max"
   ]
  },
  {
   "cell_type": "code",
   "execution_count": 6,
   "metadata": {},
   "outputs": [
    {
     "data": {
      "text/plain": [
       "array([[0.77473361, 0.62987193, 0.17941617, 0.11367791, 0.17633671],\n",
       "       [0.68555944, 0.54680378, 0.21685369, 0.64186838, 0.15563309],\n",
       "       [0.37784422, 0.59678177, 0.08103329, 0.60760487, 0.65288022],\n",
       "       [0.66329891, 0.54097945, 0.30680838, 0.82303869, 0.22784574],\n",
       "       [0.21223024, 0.06426663, 0.34254093, 0.22115931, 0.10481597]])"
      ]
     },
     "execution_count": 6,
     "metadata": {},
     "output_type": "execute_result"
    }
   ],
   "source": [
    "threshold = optimizer.max[\"params\"][\"threshold\"]\n",
    "eps = optimizer.max[\"params\"][\"eps\"]\n",
    "X_hat = svt.svt_solve(X, mask, threshold=threshold, eps=eps, max_iters=10000)\n",
    "X_hat"
   ]
  },
  {
   "cell_type": "markdown",
   "metadata": {},
   "source": [
    "not too far off!"
   ]
  },
  {
   "cell_type": "code",
   "execution_count": 9,
   "metadata": {},
   "outputs": [
    {
     "data": {
      "text/plain": [
       "array([[0.27585592, 0.8423638 , 0.57442402, 0.04281608, 0.55469531],\n",
       "       [0.60353304, 0.33345617, 0.33872183, 0.61957986, 0.18578328],\n",
       "       [0.37111083, 0.32575947, 0.11195775, 0.65048824, 0.95797305],\n",
       "       [0.33693962, 0.27662416, 0.74903084, 0.57655028, 0.14362197],\n",
       "       [0.60742355, 0.55201214, 0.46393487, 0.5142839 , 0.90875592]])"
      ]
     },
     "execution_count": 9,
     "metadata": {},
     "output_type": "execute_result"
    }
   ],
   "source": [
    "X"
   ]
  }
 ],
 "metadata": {
  "interpreter": {
   "hash": "2c73f886271c839d0ba877ba8b97f5003c6c6417a734903c0face75895daee34"
  },
  "kernelspec": {
   "display_name": "Python 3.7.11 ('han')",
   "language": "python",
   "name": "python3"
  },
  "language_info": {
   "codemirror_mode": {
    "name": "ipython",
    "version": 3
   },
   "file_extension": ".py",
   "mimetype": "text/x-python",
   "name": "python",
   "nbconvert_exporter": "python",
   "pygments_lexer": "ipython3",
   "version": "3.7.11"
  },
  "orig_nbformat": 4,
  "vscode": {
   "interpreter": {
    "hash": "2c73f886271c839d0ba877ba8b97f5003c6c6417a734903c0face75895daee34"
   }
  }
 },
 "nbformat": 4,
 "nbformat_minor": 2
}
