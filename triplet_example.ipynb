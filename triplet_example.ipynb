{
 "cells": [
  {
   "cell_type": "code",
   "execution_count": 219,
   "metadata": {},
   "outputs": [
    {
     "name": "stdout",
     "output_type": "stream",
     "text": [
      "The autoreload extension is already loaded. To reload it, use:\n",
      "  %reload_ext autoreload\n"
     ]
    }
   ],
   "source": [
    "%load_ext autoreload\n",
    "%autoreload 2\n",
    "import numpy as np\n",
    "import svt\n",
    "from bayes_opt import BayesianOptimization\n",
    "import pickle\n",
    "def eval_distM(M, triplets):\n",
    "    correct = 0\n",
    "    for a,p,n in triplets:\n",
    "        if M[a,p] < M[a,n]: correct += 1\n",
    "    return correct/len(triplets)\n",
    "def eval_simM(M, triplets):\n",
    "    correct = 0\n",
    "    for a,p,n in triplets:\n",
    "        if M[a,p] >= M[a,n]: correct += 1\n",
    "    return correct/len(triplets)"
   ]
  },
  {
   "cell_type": "code",
   "execution_count": 220,
   "metadata": {},
   "outputs": [],
   "source": [
    "data_size = 120\n",
    "triplets = np.array(pickle.load(open(\"data/bm_prolific_triplets.pkl\",\"rb\")))\n",
    "# triplets = np.array(pickle.load(open(\"data/bm_prolific_triplets_filtered.pkl\",\"rb\")))"
   ]
  },
  {
   "cell_type": "code",
   "execution_count": 218,
   "metadata": {},
   "outputs": [
    {
     "name": "stdout",
     "output_type": "stream",
     "text": [
      "[ 1  2  4  5  7  8  9 10] [0 3 6]\n",
      "[0 1 2 3 5 6 7 8 9] [ 4 10]\n",
      "[ 0  2  3  4  5  6  7  9 10] [1 8]\n",
      "[ 0  1  3  4  5  6  7  8 10] [2 9]\n",
      "[ 0  1  2  3  4  6  8  9 10] [5 7]\n"
     ]
    }
   ],
   "source": [
    "from sklearn.model_selection import KFold\n",
    "\n",
    "X = np.arange(11)\n",
    "kf = KFold(n_splits=5, shuffle=True)\n",
    "for train, test in kf.split(X):\n",
    "    print(\"%s %s\" % (train, test))"
   ]
  },
  {
   "cell_type": "code",
   "execution_count": 221,
   "metadata": {},
   "outputs": [],
   "source": [
    "len_triplets = len(triplets)\n",
    "valid_idx = np.random.choice(np.arange(len_triplets), int(0.2*len_triplets), replace=False)\n",
    "train_idx = np.setdiff1d(np.arange(len_triplets), valid_idx)\n",
    "train_triplets = triplets[train_idx]\n",
    "valid_triplets = triplets[valid_idx]"
   ]
  },
  {
   "cell_type": "markdown",
   "metadata": {},
   "source": [
    "constructing distance matrix from triplets"
   ]
  },
  {
   "cell_type": "code",
   "execution_count": 222,
   "metadata": {},
   "outputs": [],
   "source": [
    "X = np.zeros([data_size,data_size])\n",
    "mask = np.zeros([data_size,data_size])\n",
    "np.fill_diagonal(mask, 1)"
   ]
  },
  {
   "cell_type": "markdown",
   "metadata": {},
   "source": [
    "incrementing/decrementing by 1"
   ]
  },
  {
   "cell_type": "code",
   "execution_count": 223,
   "metadata": {},
   "outputs": [
    {
     "data": {
      "text/plain": [
       "(0.9572916666666667, 0.3770833333333333)"
      ]
     },
     "execution_count": 223,
     "metadata": {},
     "output_type": "execute_result"
    }
   ],
   "source": [
    "for a,p,n in train_triplets:\n",
    "    X[a,p] -= 1\n",
    "    X[a,n] += 1\n",
    "    X[p,a] -= 1\n",
    "    X[n,a] += 1\n",
    "    mask[a,p], mask[a,n], mask[p,a], mask[n,a] = 1, 1, 1, 1\n",
    "np.fill_diagonal(X, 0)\n",
    "eval_distM(X, train_triplets), eval_distM(X, valid_triplets)"
   ]
  },
  {
   "cell_type": "code",
   "execution_count": 142,
   "metadata": {},
   "outputs": [
    {
     "data": {
      "text/plain": [
       "(0.99375, 0.78125)"
      ]
     },
     "execution_count": 142,
     "metadata": {},
     "output_type": "execute_result"
    }
   ],
   "source": [
    "for a,p,n in train_triplets:\n",
    "    X[a,p] += 1\n",
    "    X[a,n] -= 1\n",
    "    X[p,a] += 1\n",
    "    X[n,a] -= 1\n",
    "    mask[a,p], mask[a,n], mask[p,a], mask[n,a] = 1, 1, 1, 1\n",
    "np.fill_diagonal(X, X.max()*2)\n",
    "eval_simM(X, train_triplets), eval_simM(X, valid_triplets)"
   ]
  },
  {
   "cell_type": "markdown",
   "metadata": {},
   "source": [
    "incrementing/decrementing by random"
   ]
  },
  {
   "cell_type": "code",
   "execution_count": 181,
   "metadata": {},
   "outputs": [
    {
     "data": {
      "text/plain": [
       "(0.9479166666666666, 0.5854166666666667)"
      ]
     },
     "execution_count": 181,
     "metadata": {},
     "output_type": "execute_result"
    }
   ],
   "source": [
    "for a,p,n in train_triplets:\n",
    "    X[a,p] -= np.random.random()\n",
    "    X[a,n] += np.random.random()\n",
    "    X[p,a] -= np.random.random()\n",
    "    X[n,a] += np.random.random()\n",
    "    mask[a,p], mask[a,n], mask[p,a], mask[n,a] = 1, 1, 1, 1\n",
    "np.fill_diagonal(X, X.min()*2)\n",
    "eval_distM(X, train_triplets), eval_distM(X, valid_triplets)"
   ]
  },
  {
   "cell_type": "code",
   "execution_count": 190,
   "metadata": {},
   "outputs": [
    {
     "data": {
      "text/plain": [
       "(0.778125, 0.534375)"
      ]
     },
     "execution_count": 190,
     "metadata": {},
     "output_type": "execute_result"
    }
   ],
   "source": [
    "for a,p,n in train_triplets:\n",
    "    X[a,p] += 1\n",
    "    X[a,n] += 2\n",
    "    X[p,a] += 1\n",
    "    X[n,a] += 2\n",
    "    mask[a,p], mask[a,n], mask[p,a], mask[n,a] = 1, 1, 1, 1\n",
    "np.fill_diagonal(X, 0)\n",
    "eval_distM(X, train_triplets), eval_distM(X, valid_triplets)"
   ]
  },
  {
   "cell_type": "markdown",
   "metadata": {},
   "source": [
    "## singular value thresholding with bayesian optimization"
   ]
  },
  {
   "cell_type": "code",
   "execution_count": 209,
   "metadata": {},
   "outputs": [],
   "source": [
    "def svt_solve(threshold, eps):\n",
    "    X_hat = svt.svt_solve(X, mask, threshold=threshold, eps=eps)\n",
    "    return  - np.linalg.norm(X - X_hat)"
   ]
  },
  {
   "cell_type": "code",
   "execution_count": 210,
   "metadata": {},
   "outputs": [],
   "source": [
    "S = np.linalg.svd(X)[1]\n",
    "pbounds = {\"threshold\": (S.min(), S.max()/2),\n",
    "    \"eps\": (1e-4, 1000)}"
   ]
  },
  {
   "cell_type": "code",
   "execution_count": 211,
   "metadata": {},
   "outputs": [
    {
     "data": {
      "text/plain": [
       "{'target': -0.14233965736598567,\n",
       " 'params': {'eps': 7.364687302826743, 'threshold': 0.18263289239704822}}"
      ]
     },
     "execution_count": 211,
     "metadata": {},
     "output_type": "execute_result"
    }
   ],
   "source": [
    "optimizer = BayesianOptimization(\n",
    "    f= svt_solve,\n",
    "    pbounds=pbounds,\n",
    "    verbose=0, \n",
    "    random_state=1,\n",
    ")\n",
    "optimizer.maximize(\n",
    "    init_points=2,\n",
    "    n_iter=100,\n",
    ")\n",
    "optimizer.max"
   ]
  },
  {
   "cell_type": "code",
   "execution_count": 212,
   "metadata": {},
   "outputs": [
    {
     "data": {
      "text/plain": [
       "0.609375"
      ]
     },
     "execution_count": 212,
     "metadata": {},
     "output_type": "execute_result"
    }
   ],
   "source": [
    "threshold = optimizer.max[\"params\"][\"threshold\"]\n",
    "eps = optimizer.max[\"params\"][\"eps\"]\n",
    "X_hat = svt.svt_solve(X, mask, threshold=threshold, eps=eps, max_iters=1000)\n",
    "eval_distM(X_hat, valid_triplets)"
   ]
  },
  {
   "cell_type": "code",
   "execution_count": 224,
   "metadata": {},
   "outputs": [],
   "source": [
    "from matrix_completion import svt_solve"
   ]
  },
  {
   "cell_type": "code",
   "execution_count": 225,
   "metadata": {},
   "outputs": [
    {
     "data": {
      "text/plain": [
       "0.6708333333333333"
      ]
     },
     "execution_count": 225,
     "metadata": {},
     "output_type": "execute_result"
    }
   ],
   "source": [
    "X_hat = svt_solve(X, mask, max_iterations=100)\n",
    "eval_distM(X_hat, valid_triplets)\n"
   ]
  },
  {
   "cell_type": "code",
   "execution_count": 226,
   "metadata": {},
   "outputs": [
    {
     "data": {
      "text/plain": [
       "0.6645833333333333"
      ]
     },
     "execution_count": 226,
     "metadata": {},
     "output_type": "execute_result"
    }
   ],
   "source": [
    "X_hat = svt_solve(X, mask, max_iterations=1000)\n",
    "eval_distM(X_hat, valid_triplets)\n"
   ]
  },
  {
   "cell_type": "code",
   "execution_count": null,
   "metadata": {},
   "outputs": [],
   "source": []
  }
 ],
 "metadata": {
  "interpreter": {
   "hash": "2c73f886271c839d0ba877ba8b97f5003c6c6417a734903c0face75895daee34"
  },
  "kernelspec": {
   "display_name": "Python 3.7.11 ('han')",
   "language": "python",
   "name": "python3"
  },
  "language_info": {
   "codemirror_mode": {
    "name": "ipython",
    "version": 3
   },
   "file_extension": ".py",
   "mimetype": "text/x-python",
   "name": "python",
   "nbconvert_exporter": "python",
   "pygments_lexer": "ipython3",
   "version": "3.7.11"
  },
  "orig_nbformat": 4,
  "vscode": {
   "interpreter": {
    "hash": "2c73f886271c839d0ba877ba8b97f5003c6c6417a734903c0face75895daee34"
   }
  }
 },
 "nbformat": 4,
 "nbformat_minor": 2
}
