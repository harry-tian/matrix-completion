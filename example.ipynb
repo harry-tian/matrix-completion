{
 "cells": [
  {
   "cell_type": "code",
   "execution_count": 1,
   "metadata": {},
   "outputs": [],
   "source": [
    "%load_ext autoreload\n",
    "%autoreload 2\n",
    "import numpy as np\n",
    "import svt\n",
    "from bayes_opt import BayesianOptimization"
   ]
  },
  {
   "cell_type": "markdown",
   "metadata": {},
   "source": [
    "## Example of using singular value thresholding with bayesian optimization"
   ]
  },
  {
   "cell_type": "code",
   "execution_count": 2,
   "metadata": {},
   "outputs": [
    {
     "data": {
      "text/plain": [
       "array([[1., 1., 0., 1., 1.],\n",
       "       [1., 1., 0., 1., 1.],\n",
       "       [1., 1., 1., 1., 1.],\n",
       "       [0., 1., 1., 1., 1.],\n",
       "       [1., 1., 1., 1., 0.]])"
      ]
     },
     "execution_count": 2,
     "metadata": {},
     "output_type": "execute_result"
    }
   ],
   "source": [
    "X = np.random.random([5,5])\n",
    "mask = np.ones_like(X)\n",
    "nan = [[0,2],[1,2],[3,0],[4,4]]\n",
    "for idx in nan: mask[idx[0],idx[1]] = 0\n",
    "mask"
   ]
  },
  {
   "cell_type": "markdown",
   "metadata": {},
   "source": [
    "the bayes_opt packages maximizes by default, so we flip the sign of the norm error"
   ]
  },
  {
   "cell_type": "code",
   "execution_count": 3,
   "metadata": {},
   "outputs": [],
   "source": [
    "def svt_solve(threshold, eps):\n",
    "    X_hat = svt.svt_solve(X, mask, threshold=threshold, eps=eps)\n",
    "    return  - np.linalg.norm(X - X_hat)"
   ]
  },
  {
   "cell_type": "markdown",
   "metadata": {},
   "source": [
    "there's probably better hyperparamter ranges..."
   ]
  },
  {
   "cell_type": "code",
   "execution_count": 4,
   "metadata": {},
   "outputs": [],
   "source": [
    "S = np.linalg.svd(X)[1]\n",
    "pbounds = {\"threshold\": (S.min(), S.max()),\n",
    "    \"eps\": (1e-8, 1e-2)}"
   ]
  },
  {
   "cell_type": "code",
   "execution_count": 10,
   "metadata": {},
   "outputs": [
    {
     "data": {
      "text/plain": [
       "{'target': -0.498402894801359,\n",
       " 'params': {'eps': 0.01, 'threshold': 0.9676668873838575}}"
      ]
     },
     "execution_count": 10,
     "metadata": {},
     "output_type": "execute_result"
    }
   ],
   "source": [
    "optimizer = BayesianOptimization(\n",
    "    f= svt_solve ,\n",
    "    pbounds=pbounds,\n",
    "    verbose=0, \n",
    "    random_state=1,\n",
    ")\n",
    "optimizer.maximize(\n",
    "    init_points=0,\n",
    "    n_iter=100,\n",
    ")\n",
    "optimizer.max"
   ]
  },
  {
   "cell_type": "code",
   "execution_count": 11,
   "metadata": {},
   "outputs": [
    {
     "data": {
      "text/plain": [
       "array([[0.22892789, 0.41564521, 0.11007147, 0.01646025, 0.10053958],\n",
       "       [0.77715246, 0.25180181, 0.30136806, 0.08766734, 0.92679787],\n",
       "       [0.08490553, 0.79136444, 0.61027389, 0.92797805, 0.76096421],\n",
       "       [0.31477233, 0.52962952, 0.47664175, 0.71848776, 0.51068686],\n",
       "       [0.38152334, 0.81824978, 0.21731755, 0.91290499, 0.87117235]])"
      ]
     },
     "execution_count": 11,
     "metadata": {},
     "output_type": "execute_result"
    }
   ],
   "source": [
    "threshold = optimizer.max[\"params\"][\"threshold\"]\n",
    "eps = optimizer.max[\"params\"][\"eps\"]\n",
    "X_hat = svt.svt_solve(X, mask, threshold=threshold, eps=eps, max_iters=10000)\n",
    "X_hat"
   ]
  },
  {
   "cell_type": "markdown",
   "metadata": {},
   "source": [
    "not too far off!"
   ]
  },
  {
   "cell_type": "code",
   "execution_count": 7,
   "metadata": {},
   "outputs": [
    {
     "data": {
      "text/plain": [
       "array([[0.22892789, 0.41564521, 0.13619514, 0.01646025, 0.10053958],\n",
       "       [0.77715246, 0.25180181, 0.23208707, 0.08766734, 0.92679787],\n",
       "       [0.08490553, 0.79136444, 0.61027389, 0.92797805, 0.76096421],\n",
       "       [0.57789451, 0.52962952, 0.47664175, 0.71848776, 0.51068686],\n",
       "       [0.38152334, 0.81824978, 0.21731755, 0.91290499, 0.45441119]])"
      ]
     },
     "execution_count": 7,
     "metadata": {},
     "output_type": "execute_result"
    }
   ],
   "source": [
    "X"
   ]
  }
 ],
 "metadata": {
  "interpreter": {
   "hash": "2c73f886271c839d0ba877ba8b97f5003c6c6417a734903c0face75895daee34"
  },
  "kernelspec": {
   "display_name": "Python 3.7.11 ('han')",
   "language": "python",
   "name": "python3"
  },
  "language_info": {
   "codemirror_mode": {
    "name": "ipython",
    "version": 3
   },
   "file_extension": ".py",
   "mimetype": "text/x-python",
   "name": "python",
   "nbconvert_exporter": "python",
   "pygments_lexer": "ipython3",
   "version": "3.7.11"
  },
  "orig_nbformat": 4,
  "vscode": {
   "interpreter": {
    "hash": "2c73f886271c839d0ba877ba8b97f5003c6c6417a734903c0face75895daee34"
   }
  }
 },
 "nbformat": 4,
 "nbformat_minor": 2
}
